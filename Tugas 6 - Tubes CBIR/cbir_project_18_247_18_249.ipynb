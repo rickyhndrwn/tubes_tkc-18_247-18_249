{
  "nbformat": 4,
  "nbformat_minor": 0,
  "metadata": {
    "colab": {
      "name": "cbir_project-18_247-18_249.ipynb",
      "provenance": [],
      "collapsed_sections": [
        "3lZtlT3NIpTG",
        "9AnkYLC2Inrd",
        "w0EviheaVDdd",
        "Kdo-7MQAJPK5",
        "ADSYJvLnJZI6",
        "GvNVHgfUKG6S",
        "H_FtxgC2KShX",
        "VFOeX2yFLxur",
        "JTEoiODgKYEq",
        "8DGS22M4Ls-T",
        "_s4rq0T5Pc7z",
        "bIMEK9xSQUfh",
        "KnZnp9a2Qwta",
        "ja--TkAGRIYD",
        "FH_PFzPbRPfa",
        "SKyhXzLcRyRH",
        "DIT2MSjIR-Fg",
        "-OPzCMQTSFBN",
        "BbZb6nUPSLtM"
      ],
      "toc_visible": true,
      "mount_file_id": "15c7-5P0dtfmCCe7S2iE_149vhjRjnvDL",
      "authorship_tag": "ABX9TyMAUCYQ4sltg/hdyHaWoQH4",
      "include_colab_link": true
    },
    "kernelspec": {
      "name": "python3",
      "display_name": "Python 3"
    },
    "language_info": {
      "name": "python"
    }
  },
  "cells": [
    {
      "cell_type": "markdown",
      "metadata": {
        "id": "view-in-github",
        "colab_type": "text"
      },
      "source": [
        "<a href=\"https://colab.research.google.com/github/rickyhndrwn/tubes_tkc-18_247-18_249/blob/main/Tugas%206%20-%20Tubes%20CBIR/cbir_project_18_247_18_249.ipynb\" target=\"_parent\"><img src=\"https://colab.research.google.com/assets/colab-badge.svg\" alt=\"Open In Colab\"/></a>"
      ]
    },
    {
      "cell_type": "markdown",
      "metadata": {
        "id": "la1x2k15Kinb"
      },
      "source": [
        "## CBIR Project - Temu Kembali Citra 7B\n",
        "---\n",
        "NIM - Nama = 201810370311247 - Ricky Hendrawan\n",
        "\n",
        "NIM - Nama = 201810370311249 - Shofiyah"
      ]
    },
    {
      "cell_type": "markdown",
      "metadata": {
        "id": "3lZtlT3NIpTG"
      },
      "source": [
        "### Import library"
      ]
    },
    {
      "cell_type": "code",
      "metadata": {
        "id": "fP7948lOIrO6"
      },
      "source": [
        "import os\n",
        "\n",
        "import cv2\n",
        "import numpy as np\n",
        "\n",
        "from tensorflow.keras import Sequential, Input\n",
        "from tensorflow.keras.layers import BatchNormalization, Conv2D, Dense, Dropout, Flatten, InputLayer, MaxPool2D, SeparableConv2D\n",
        "\n",
        "from tensorflow.keras.metrics import Precision, Recall\n",
        "\n",
        "import json\n",
        "\n",
        "from tensorflow.keras.callbacks import EarlyStopping, LearningRateScheduler, ModelCheckpoint\n",
        "\n",
        "from keras.models import load_model\n",
        "\n",
        "import matplotlib.pyplot as plt\n",
        "\n",
        "from sklearn.metrics import classification_report\n",
        "from sklearn.metrics import confusion_matrix\n",
        "\n",
        "import seaborn as sns\n",
        "\n",
        "from keras.preprocessing.image import load_img, img_to_array\n",
        "\n",
        "import time"
      ],
      "execution_count": 31,
      "outputs": []
    },
    {
      "cell_type": "markdown",
      "metadata": {
        "id": "9AnkYLC2Inrd"
      },
      "source": [
        "### Define path"
      ]
    },
    {
      "cell_type": "code",
      "metadata": {
        "id": "jfnhk9xpH8yz"
      },
      "source": [
        "base_dir = '/content/drive/MyDrive/Dataset/chest_xray'\n",
        "\n",
        "splitted_dir = os.path.join(base_dir, 'splitted_data')\n",
        "\n",
        "train_dir = os.path.join(splitted_dir, 'train')\n",
        "norm_train_dir = os.path.join(train_dir, 'normal')\n",
        "pneu_train_dir = os.path.join(train_dir, 'pneumonia')\n",
        "\n",
        "val_dir = os.path.join(splitted_dir, 'val')\n",
        "norm_val_dir = os.path.join(val_dir, 'normal')\n",
        "pneu_val_dir = os.path.join(val_dir, 'pneumonia')\n",
        "\n",
        "test_dir = os.path.join(splitted_dir, 'test')\n",
        "norm_test_dir = os.path.join(test_dir, 'normal')\n",
        "pneu_test_dir = os.path.join(test_dir, 'pneumonia')"
      ],
      "execution_count": 2,
      "outputs": []
    },
    {
      "cell_type": "code",
      "metadata": {
        "colab": {
          "base_uri": "https://localhost:8080/"
        },
        "id": "A02taWfTIvvL",
        "outputId": "c141b006-5ee5-4269-f836-2c88e44481b4"
      },
      "source": [
        "print(\"Total Training NORMAL:\", len(os.listdir(norm_train_dir)))\n",
        "print(\"Total Training PNEUMONIA:\", len(os.listdir(pneu_train_dir)))\n",
        "print('-'*30)\n",
        "print(\"Total validation NORMAL:\", len(os.listdir(norm_val_dir)))\n",
        "print(\"Total validation PNEUMONIA:\", len(os.listdir(pneu_val_dir)))\n",
        "print('-'*30)\n",
        "print(\"Total Testing NORMAL:\", len(os.listdir(norm_test_dir)))\n",
        "print(\"Total Testing PNEUMONIA:\", len(os.listdir(pneu_test_dir)))"
      ],
      "execution_count": 3,
      "outputs": [
        {
          "output_type": "stream",
          "name": "stdout",
          "text": [
            "Total Training NORMAL: 1266\n",
            "Total Training PNEUMONIA: 3418\n",
            "------------------------------\n",
            "Total validation NORMAL: 300\n",
            "Total validation PNEUMONIA: 811\n",
            "------------------------------\n",
            "Total Testing NORMAL: 17\n",
            "Total Testing PNEUMONIA: 44\n"
          ]
        }
      ]
    },
    {
      "cell_type": "markdown",
      "metadata": {
        "id": "w0EviheaVDdd"
      },
      "source": [
        "### Check data split ratio"
      ]
    },
    {
      "cell_type": "code",
      "metadata": {
        "colab": {
          "base_uri": "https://localhost:8080/"
        },
        "id": "S4WzbDItVFkY",
        "outputId": "49ff7a88-e651-4b94-d8fe-4681731c7d63"
      },
      "source": [
        "total_train_data = len(os.listdir(norm_train_dir)) + len(os.listdir(pneu_train_dir))\n",
        "total_val_data = len(os.listdir(norm_val_dir)) + len(os.listdir(pneu_val_dir))\n",
        "total_test_data = len(os.listdir(norm_test_dir)) + len(os.listdir(pneu_test_dir))\n",
        "\n",
        "total_data = total_train_data + total_val_data + total_test_data\n",
        "\n",
        "print(f\"Rasio data train = {(total_train_data / total_data) * 100:.2f} %\")\n",
        "print(f\"Rasio data val = {(total_val_data / total_data) * 100:.2f} %\")\n",
        "print(f\"Rasio data test = {(total_test_data / total_data) * 100:.2f} %\")"
      ],
      "execution_count": 10,
      "outputs": [
        {
          "output_type": "stream",
          "name": "stdout",
          "text": [
            "Rasio data train = 79.99 %\n",
            "Rasio data val = 18.97 %\n",
            "Rasio data test = 1.04 %\n"
          ]
        }
      ]
    },
    {
      "cell_type": "markdown",
      "metadata": {
        "id": "Kdo-7MQAJPK5"
      },
      "source": [
        "### Gather data"
      ]
    },
    {
      "cell_type": "code",
      "metadata": {
        "id": "Cjs1jhrwJQmE"
      },
      "source": [
        "\"\"\"\n",
        "Fungsi untuk gather data,\n",
        "Menerima 1 parameter berupa direktori data,\n",
        "Return 2 list\n",
        "\"\"\"\n",
        "def gather_data(data_dir):\n",
        "    dir_data = []\n",
        "    dir_label = []\n",
        "\n",
        "    for dirpath, dirnames, filenames in os.walk(data_dir):\n",
        "        for file in filenames:\n",
        "            if \".jpeg\" in file:\n",
        "                image_path = os.path.join(dirpath, file)\n",
        "\n",
        "                image = cv2.imread(image_path)\n",
        "                image = cv2.resize(image, (180,180))\n",
        "                image = image.astype('float32') / 255.0\n",
        "                dir_data.append(image)\n",
        "\n",
        "                label = int((image_path.split(os.path.sep)[-2]) == 'pneumonia')\n",
        "                dir_label.append(label)\n",
        "\n",
        "    dir_data = np.array(dir_data)\n",
        "    dir_label = np.array(dir_label)\n",
        "\n",
        "    return dir_data, dir_label"
      ],
      "execution_count": 11,
      "outputs": []
    },
    {
      "cell_type": "code",
      "metadata": {
        "id": "YN2XrOwEJVA9"
      },
      "source": [
        "# Gather data train\n",
        "x_train, y_train = gather_data(train_dir)\n",
        "# Gather data val\n",
        "x_val, y_val = gather_data(val_dir)\n",
        "# Gather data test\n",
        "x_test, y_test = gather_data(test_dir)"
      ],
      "execution_count": 12,
      "outputs": []
    },
    {
      "cell_type": "markdown",
      "metadata": {
        "id": "ADSYJvLnJZI6"
      },
      "source": [
        "### Save gathered data"
      ]
    },
    {
      "cell_type": "code",
      "metadata": {
        "id": "lw13C2GfJeSy"
      },
      "source": [
        "data_label_save_dir = '/content/drive/MyDrive/Colab Notebooks/Tugas Kelompok Praktikum PM 2021/Preprocessed Data/Gather Func Only'\n",
        "\n",
        "preprocessed_data = [x_train, y_train, x_test, y_test, x_val, y_val]\n",
        "preprocessed_file_name = ['x_train', 'y_train', 'x_test', 'y_test', 'x_val', 'y_val']\n",
        "for i, file_name in enumerate(preprocessed_file_name):\n",
        "    np.save(data_label_save_dir + '/' + file_name + '.npy', preprocessed_data[i])"
      ],
      "execution_count": 13,
      "outputs": []
    },
    {
      "cell_type": "markdown",
      "metadata": {
        "id": "GvNVHgfUKG6S"
      },
      "source": [
        "### Load gathered data"
      ]
    },
    {
      "cell_type": "code",
      "metadata": {
        "id": "BbLRrFeDKI9m"
      },
      "source": [
        "data_label_save_dir = '/content/drive/MyDrive/Colab Notebooks/Tugas Kelompok Praktikum PM 2021/Preprocessed Data/Gather Func Only'\n",
        "\n",
        "x_train = np.load(data_label_save_dir + '/x_train.npy')\n",
        "x_val = np.load(data_label_save_dir + '/x_val.npy')\n",
        "x_test = np.load(data_label_save_dir + '/x_test.npy')\n",
        "\n",
        "y_train = np.load(data_label_save_dir + '/y_train.npy')\n",
        "y_val = np.load(data_label_save_dir + '/y_val.npy')\n",
        "y_test = np.load(data_label_save_dir + '/y_test.npy')"
      ],
      "execution_count": 14,
      "outputs": []
    },
    {
      "cell_type": "markdown",
      "metadata": {
        "id": "H_FtxgC2KShX"
      },
      "source": [
        "### Print data shape"
      ]
    },
    {
      "cell_type": "code",
      "metadata": {
        "colab": {
          "base_uri": "https://localhost:8080/"
        },
        "id": "5lTicvxqKUNc",
        "outputId": "0d950fcd-84f6-46f6-d94e-15eed6cb282e"
      },
      "source": [
        "print(\"Train Data = \", x_train.shape)\n",
        "print(\"Train Label = \", y_train.shape)\n",
        "print('-'*30)\n",
        "print(\"Val Data = \", x_val.shape)\n",
        "print(\"Val Label = \", y_val.shape)\n",
        "print('-'*30)\n",
        "print(\"Test Data = \", x_test.shape)\n",
        "print(\"Test Label = \", y_test.shape)"
      ],
      "execution_count": 15,
      "outputs": [
        {
          "output_type": "stream",
          "name": "stdout",
          "text": [
            "Train Data =  (4684, 180, 180, 3)\n",
            "Train Label =  (4684,)\n",
            "------------------------------\n",
            "Val Data =  (1111, 180, 180, 3)\n",
            "Val Label =  (1111,)\n",
            "------------------------------\n",
            "Test Data =  (61, 180, 180, 3)\n",
            "Test Label =  (61,)\n"
          ]
        }
      ]
    },
    {
      "cell_type": "markdown",
      "metadata": {
        "id": "VFOeX2yFLxur"
      },
      "source": [
        "### Class weighting"
      ]
    },
    {
      "cell_type": "code",
      "metadata": {
        "colab": {
          "base_uri": "https://localhost:8080/"
        },
        "id": "YYsNfsC3L2MF",
        "outputId": "872eaef9-66c3-49b6-ed0e-4fe684385818"
      },
      "source": [
        "norm_dir = os.path.join(base_dir, 'normal')\n",
        "pneu_dir = os.path.join(base_dir, 'pneumonia')\n",
        "\n",
        "norm_data_count = len(os.listdir(norm_dir))\n",
        "pneu_data_count = len(os.listdir(pneu_dir))\n",
        "\n",
        "print(f\"Jumlah Normal: {norm_data_count}\\nJumlah Pneoumonia: {pneu_data_count}\")"
      ],
      "execution_count": 16,
      "outputs": [
        {
          "output_type": "stream",
          "name": "stdout",
          "text": [
            "Jumlah Normal: 1583\n",
            "Jumlah Pneoumonia: 4273\n"
          ]
        }
      ]
    },
    {
      "cell_type": "code",
      "metadata": {
        "colab": {
          "base_uri": "https://localhost:8080/"
        },
        "id": "b8zK0x43L4zx",
        "outputId": "b92d99d5-bad6-44d2-8499-d02a21d1809d"
      },
      "source": [
        "weight_for_0 = (1 / norm_data_count) * (x_train.shape[0]) / 2.0 \n",
        "weight_for_1 = (1 / pneu_data_count) * (x_train.shape[0]) / 2.0\n",
        "\n",
        "class_weight = {0: weight_for_0, 1: weight_for_1}\n",
        "\n",
        "print('Weight for class 0: {:.2f}'.format(weight_for_0))\n",
        "print('Weight for class 1: {:.2f}'.format(weight_for_1))"
      ],
      "execution_count": 17,
      "outputs": [
        {
          "output_type": "stream",
          "name": "stdout",
          "text": [
            "Weight for class 0: 1.48\n",
            "Weight for class 1: 0.55\n"
          ]
        }
      ]
    },
    {
      "cell_type": "markdown",
      "metadata": {
        "id": "JTEoiODgKYEq"
      },
      "source": [
        "### Modelling"
      ]
    },
    {
      "cell_type": "code",
      "metadata": {
        "id": "StaDrQ_hKW4u"
      },
      "source": [
        "def conv_block(filters):\n",
        "    block = Sequential([\n",
        "        SeparableConv2D(filters, 3, activation='relu', padding='same'),\n",
        "        SeparableConv2D(filters, 3, activation='relu', padding='same'),\n",
        "        BatchNormalization(),\n",
        "        MaxPool2D()\n",
        "    ])\n",
        "    \n",
        "    return block"
      ],
      "execution_count": 18,
      "outputs": []
    },
    {
      "cell_type": "code",
      "metadata": {
        "id": "K6Y9XBGyLQoS"
      },
      "source": [
        "def dense_block(units, dropout_rate):\n",
        "    block = Sequential([\n",
        "        Dense(units, activation='relu'),\n",
        "        BatchNormalization(),\n",
        "        Dropout(dropout_rate)\n",
        "    ])\n",
        "    \n",
        "    return block"
      ],
      "execution_count": 19,
      "outputs": []
    },
    {
      "cell_type": "code",
      "metadata": {
        "id": "zxsXIYO2LWO_"
      },
      "source": [
        "def build_model():\n",
        "    model = Sequential([\n",
        "        Input(shape=(180, 180, 3)),\n",
        "\n",
        "        Conv2D(16, 3, activation='relu', padding='same'),\n",
        "        Conv2D(16, 3, activation='relu', padding='same'),\n",
        "        MaxPool2D(),\n",
        "        \n",
        "        conv_block(32),\n",
        "        conv_block(64),\n",
        "        conv_block(128),\n",
        "        \n",
        "        Dropout(0.2),\n",
        "        \n",
        "        conv_block(256),\n",
        "        \n",
        "        Dropout(0.2),\n",
        "        Flatten(),\n",
        "        \n",
        "        dense_block(512, 0.7),\n",
        "        dense_block(128, 0.5),\n",
        "        dense_block(64, 0.3),\n",
        "        \n",
        "        Dense(1, activation='sigmoid')\n",
        "    ])\n",
        "    \n",
        "    return model"
      ],
      "execution_count": 20,
      "outputs": []
    },
    {
      "cell_type": "markdown",
      "metadata": {
        "id": "8DGS22M4Ls-T"
      },
      "source": [
        "### Phase 1 model training"
      ]
    },
    {
      "cell_type": "code",
      "metadata": {
        "id": "P9cB6XmKMAiQ"
      },
      "source": [
        "model = build_model()\n",
        "\n",
        "METRICS = [\n",
        "    'acc',\n",
        "    Precision(name='precision'),\n",
        "    Recall(name='recall')\n",
        "]\n",
        "\n",
        "model.compile(\n",
        "    optimizer='adam',\n",
        "    loss='binary_crossentropy',\n",
        "    metrics=METRICS\n",
        ")"
      ],
      "execution_count": 21,
      "outputs": []
    },
    {
      "cell_type": "code",
      "metadata": {
        "id": "tbNILjn-MZzM"
      },
      "source": [
        "TRAIN_IMG_COUNT = x_train.shape[0]\n",
        "VAL_IMG_COUNT = x_val.shape[0]\n",
        "BATCH_SIZE = 128"
      ],
      "execution_count": 22,
      "outputs": []
    },
    {
      "cell_type": "code",
      "metadata": {
        "id": "QGETaXxzMkqg",
        "colab": {
          "base_uri": "https://localhost:8080/"
        },
        "outputId": "2e6220db-82ac-4777-d5c1-19d28f5d7596"
      },
      "source": [
        "H = model.fit(x_train, y_train,\n",
        "              steps_per_epoch=TRAIN_IMG_COUNT // BATCH_SIZE,\n",
        "              epochs=25,\n",
        "              validation_data=(x_val, y_val),\n",
        "              validation_steps=VAL_IMG_COUNT // BATCH_SIZE,\n",
        "              class_weight=class_weight,\n",
        "              )"
      ],
      "execution_count": 23,
      "outputs": [
        {
          "output_type": "stream",
          "name": "stdout",
          "text": [
            "Epoch 1/25\n",
            "36/36 [==============================] - 335s 9s/step - loss: 0.4497 - acc: 0.7299 - precision: 0.9207 - recall: 0.6893 - val_loss: 0.6399 - val_acc: 0.7300 - val_precision: 0.7300 - val_recall: 1.0000\n",
            "Epoch 2/25\n",
            "36/36 [==============================] - 328s 9s/step - loss: 0.2841 - acc: 0.8484 - precision: 0.9605 - recall: 0.8262 - val_loss: 0.5846 - val_acc: 0.7300 - val_precision: 0.7300 - val_recall: 1.0000\n",
            "Epoch 3/25\n",
            "36/36 [==============================] - 329s 9s/step - loss: 0.2077 - acc: 0.9003 - precision: 0.9713 - recall: 0.8897 - val_loss: 0.6367 - val_acc: 0.7300 - val_precision: 0.7300 - val_recall: 1.0000\n",
            "Epoch 4/25\n",
            "36/36 [==============================] - 328s 9s/step - loss: 0.1724 - acc: 0.9172 - precision: 0.9708 - recall: 0.9140 - val_loss: 0.7264 - val_acc: 0.7300 - val_precision: 0.7300 - val_recall: 1.0000\n",
            "Epoch 5/25\n",
            "36/36 [==============================] - 328s 9s/step - loss: 0.1547 - acc: 0.9257 - precision: 0.9720 - recall: 0.9248 - val_loss: 0.7863 - val_acc: 0.7300 - val_precision: 0.7300 - val_recall: 1.0000\n",
            "Epoch 6/25\n",
            "36/36 [==============================] - 328s 9s/step - loss: 0.1429 - acc: 0.9317 - precision: 0.9740 - recall: 0.9312 - val_loss: 0.8237 - val_acc: 0.7300 - val_precision: 0.7300 - val_recall: 1.0000\n",
            "Epoch 7/25\n",
            "36/36 [==============================] - 329s 9s/step - loss: 0.1316 - acc: 0.9441 - precision: 0.9750 - recall: 0.9476 - val_loss: 0.8593 - val_acc: 0.7300 - val_precision: 0.7300 - val_recall: 1.0000\n",
            "Epoch 8/25\n",
            "36/36 [==============================] - 328s 9s/step - loss: 0.1179 - acc: 0.9477 - precision: 0.9797 - recall: 0.9479 - val_loss: 0.9458 - val_acc: 0.7300 - val_precision: 0.7300 - val_recall: 1.0000\n",
            "Epoch 9/25\n",
            "36/36 [==============================] - 327s 9s/step - loss: 0.1096 - acc: 0.9518 - precision: 0.9816 - recall: 0.9517 - val_loss: 1.0412 - val_acc: 0.7300 - val_precision: 0.7300 - val_recall: 1.0000\n",
            "Epoch 10/25\n",
            "36/36 [==============================] - 329s 9s/step - loss: 0.1011 - acc: 0.9524 - precision: 0.9796 - recall: 0.9547 - val_loss: 1.1561 - val_acc: 0.7300 - val_precision: 0.7300 - val_recall: 1.0000\n",
            "Epoch 11/25\n",
            "36/36 [==============================] - 327s 9s/step - loss: 0.0978 - acc: 0.9571 - precision: 0.9832 - recall: 0.9576 - val_loss: 1.2466 - val_acc: 0.7300 - val_precision: 0.7300 - val_recall: 1.0000\n",
            "Epoch 12/25\n",
            "36/36 [==============================] - 327s 9s/step - loss: 0.0844 - acc: 0.9641 - precision: 0.9848 - recall: 0.9658 - val_loss: 1.3798 - val_acc: 0.7300 - val_precision: 0.7300 - val_recall: 1.0000\n",
            "Epoch 13/25\n",
            "36/36 [==============================] - 327s 9s/step - loss: 0.0910 - acc: 0.9579 - precision: 0.9849 - recall: 0.9570 - val_loss: 1.4771 - val_acc: 0.7300 - val_precision: 0.7300 - val_recall: 1.0000\n",
            "Epoch 14/25\n",
            "36/36 [==============================] - 327s 9s/step - loss: 0.0735 - acc: 0.9697 - precision: 0.9869 - recall: 0.9713 - val_loss: 1.5747 - val_acc: 0.7300 - val_precision: 0.7300 - val_recall: 1.0000\n",
            "Epoch 15/25\n",
            "36/36 [==============================] - 327s 9s/step - loss: 0.0709 - acc: 0.9680 - precision: 0.9866 - recall: 0.9693 - val_loss: 1.7357 - val_acc: 0.7300 - val_precision: 0.7300 - val_recall: 1.0000\n",
            "Epoch 16/25\n",
            "36/36 [==============================] - 327s 9s/step - loss: 0.0664 - acc: 0.9714 - precision: 0.9884 - recall: 0.9722 - val_loss: 1.7755 - val_acc: 0.7300 - val_precision: 0.7300 - val_recall: 1.0000\n",
            "Epoch 17/25\n",
            "36/36 [==============================] - 327s 9s/step - loss: 0.0578 - acc: 0.9746 - precision: 0.9919 - recall: 0.9731 - val_loss: 1.7555 - val_acc: 0.7300 - val_precision: 0.7300 - val_recall: 1.0000\n",
            "Epoch 18/25\n",
            "36/36 [==============================] - 327s 9s/step - loss: 0.0526 - acc: 0.9754 - precision: 0.9908 - recall: 0.9754 - val_loss: 1.7277 - val_acc: 0.7300 - val_precision: 0.7300 - val_recall: 1.0000\n",
            "Epoch 19/25\n",
            "36/36 [==============================] - 327s 9s/step - loss: 0.0650 - acc: 0.9735 - precision: 0.9884 - recall: 0.9751 - val_loss: 1.6224 - val_acc: 0.7300 - val_precision: 0.7300 - val_recall: 1.0000\n",
            "Epoch 20/25\n",
            "36/36 [==============================] - 327s 9s/step - loss: 0.0619 - acc: 0.9720 - precision: 0.9890 - recall: 0.9725 - val_loss: 1.3043 - val_acc: 0.7309 - val_precision: 0.7306 - val_recall: 1.0000\n",
            "Epoch 21/25\n",
            "36/36 [==============================] - 327s 9s/step - loss: 0.0506 - acc: 0.9765 - precision: 0.9914 - recall: 0.9763 - val_loss: 0.1463 - val_acc: 0.9478 - val_precision: 0.9424 - val_recall: 0.9889\n",
            "Epoch 22/25\n",
            "36/36 [==============================] - 326s 9s/step - loss: 0.0453 - acc: 0.9791 - precision: 0.9929 - recall: 0.9783 - val_loss: 0.1139 - val_acc: 0.9631 - val_precision: 0.9789 - val_recall: 0.9704\n",
            "Epoch 23/25\n",
            "36/36 [==============================] - 327s 9s/step - loss: 0.0318 - acc: 0.9859 - precision: 0.9964 - recall: 0.9842 - val_loss: 0.1131 - val_acc: 0.9658 - val_precision: 0.9837 - val_recall: 0.9692\n",
            "Epoch 24/25\n",
            "36/36 [==============================] - 328s 9s/step - loss: 0.0395 - acc: 0.9831 - precision: 0.9912 - recall: 0.9857 - val_loss: 0.1890 - val_acc: 0.9406 - val_precision: 0.9296 - val_recall: 0.9938\n",
            "Epoch 25/25\n",
            "36/36 [==============================] - 327s 9s/step - loss: 0.0446 - acc: 0.9797 - precision: 0.9923 - recall: 0.9798 - val_loss: 0.1586 - val_acc: 0.9478 - val_precision: 0.9445 - val_recall: 0.9864\n"
          ]
        }
      ]
    },
    {
      "cell_type": "markdown",
      "metadata": {
        "id": "_s4rq0T5Pc7z"
      },
      "source": [
        "### Save history, model, and model's weight"
      ]
    },
    {
      "cell_type": "code",
      "metadata": {
        "id": "LYFseVjmPas7"
      },
      "source": [
        "target_dir = '/content/drive/MyDrive/Informatika/Semester 7/Temu Kembali Citra/CBIR Project - Temu Kembali Citra 7B'\n",
        "\n",
        "history_dict = H.history\n",
        "json.dump(history_dict, open(target_dir + '/phase_1_train_model_history.json', 'w'))\n",
        "\n",
        "model.save(target_dir + '/phase_1_train_model.h5')\n",
        "model.save_weights(target_dir + '/phase_1_train_model_weights.h5')"
      ],
      "execution_count": 24,
      "outputs": []
    },
    {
      "cell_type": "markdown",
      "metadata": {
        "id": "bIMEK9xSQUfh"
      },
      "source": [
        "### Phase 1 Plot graph\n",
        "---\n",
        "Precision, recall, accuracy, loss"
      ]
    },
    {
      "cell_type": "code",
      "metadata": {
        "id": "ItFjREXRQh1y",
        "colab": {
          "base_uri": "https://localhost:8080/",
          "height": 241
        },
        "outputId": "f7312826-5e0f-4736-b6ac-524769e54117"
      },
      "source": [
        "fig, ax = plt.subplots(1, 4, figsize=(20, 3))\n",
        "ax = ax.ravel()\n",
        "\n",
        "for i, met in enumerate(['precision', 'recall', 'acc', 'loss']):\n",
        "    ax[i].plot(H.history[met])\n",
        "    ax[i].plot(H.history['val_' + met])\n",
        "    ax[i].set_title('Model {}'.format(met))\n",
        "    ax[i].set_xlabel('epochs')\n",
        "    ax[i].set_ylabel(met)\n",
        "    ax[i].legend(['train', 'val'])"
      ],
      "execution_count": 25,
      "outputs": [
        {
          "output_type": "display_data",
          "data": {
            "image/png": "[encoded data removed]",
            "text/plain": [
              "<Figure size 1440x216 with 4 Axes>"
            ]
          },
          "metadata": {
            "needs_background": "light"
          }
        }
      ]
    },
    {
      "cell_type": "markdown",
      "metadata": {
        "id": "KnZnp9a2Qwta"
      },
      "source": [
        "### Finetune model"
      ]
    },
    {
      "cell_type": "code",
      "metadata": {
        "id": "-JXuFCeoQyrL"
      },
      "source": [
        "save_dir = target_dir\n",
        "\n",
        "checkpoint_cb = ModelCheckpoint(save_dir + \"/xray_model.h5\",\n",
        "                                save_best_only=True)\n",
        "\n",
        "early_stopping_cb = EarlyStopping(patience=10,\n",
        "                                  restore_best_weights=True)"
      ],
      "execution_count": 30,
      "outputs": []
    },
    {
      "cell_type": "code",
      "metadata": {
        "id": "2uVsv-FSRAhJ"
      },
      "source": [
        "def exponential_decay(lr0, s):\n",
        "    def exponential_decay_fn(epoch):\n",
        "        return lr0 * 0.1 **(epoch / s)\n",
        "    return exponential_decay_fn\n",
        "\n",
        "exponential_decay_fn = exponential_decay(0.01, 20)\n",
        "\n",
        "lr_scheduler = LearningRateScheduler(exponential_decay_fn)"
      ],
      "execution_count": 32,
      "outputs": []
    },
    {
      "cell_type": "markdown",
      "metadata": {
        "id": "ja--TkAGRIYD"
      },
      "source": [
        "### Phase 2 model training"
      ]
    },
    {
      "cell_type": "code",
      "metadata": {
        "id": "-9gbzTk8RC_W",
        "colab": {
          "base_uri": "https://localhost:8080/"
        },
        "outputId": "0bb410eb-db5d-4793-f5b9-ea91c0bbd9d7"
      },
      "source": [
        "H = model.fit(x_train, y_train,\n",
        "              steps_per_epoch=TRAIN_IMG_COUNT // BATCH_SIZE,\n",
        "              epochs=100,\n",
        "              validation_data=(x_val, y_val),\n",
        "              validation_steps=VAL_IMG_COUNT // BATCH_SIZE,\n",
        "              class_weight=class_weight,\n",
        "              callbacks=[checkpoint_cb, early_stopping_cb, lr_scheduler]\n",
        "              )"
      ],
      "execution_count": 33,
      "outputs": [
        {
          "output_type": "stream",
          "name": "stdout",
          "text": [
            "Epoch 1/100\n",
            "36/36 [==============================] - 328s 9s/step - loss: 0.2179 - acc: 0.8911 - precision: 0.9625 - recall: 0.8853 - val_loss: 1847.9469 - val_acc: 0.2700 - val_precision: 0.0000e+00 - val_recall: 0.0000e+00 - lr: 0.0100\n",
            "Epoch 2/100\n",
            "36/36 [==============================] - 326s 9s/step - loss: 0.1622 - acc: 0.9231 - precision: 0.9705 - recall: 0.9228 - val_loss: 124.3745 - val_acc: 0.2718 - val_precision: 1.0000 - val_recall: 0.0025 - lr: 0.0089\n",
            "Epoch 3/100\n",
            "36/36 [==============================] - 326s 9s/step - loss: 0.1317 - acc: 0.9377 - precision: 0.9748 - recall: 0.9389 - val_loss: 9.4643 - val_acc: 0.4131 - val_precision: 1.0000 - val_recall: 0.1961 - lr: 0.0079\n",
            "Epoch 4/100\n",
            "36/36 [==============================] - 326s 9s/step - loss: 0.1178 - acc: 0.9428 - precision: 0.9814 - recall: 0.9394 - val_loss: 1.7011 - val_acc: 0.7525 - val_precision: 0.9926 - val_recall: 0.6658 - lr: 0.0071\n",
            "Epoch 5/100\n",
            "36/36 [==============================] - 325s 9s/step - loss: 0.1083 - acc: 0.9535 - precision: 0.9802 - recall: 0.9555 - val_loss: 0.1946 - val_acc: 0.9541 - val_precision: 0.9835 - val_recall: 0.9531 - lr: 0.0063\n",
            "Epoch 6/100\n",
            "36/36 [==============================] - 325s 9s/step - loss: 0.0953 - acc: 0.9550 - precision: 0.9823 - recall: 0.9555 - val_loss: 0.2794 - val_acc: 0.9226 - val_precision: 0.9892 - val_recall: 0.9038 - lr: 0.0056\n",
            "Epoch 7/100\n",
            "36/36 [==============================] - 324s 9s/step - loss: 0.0855 - acc: 0.9611 - precision: 0.9862 - recall: 0.9602 - val_loss: 0.8023 - val_acc: 0.7723 - val_precision: 0.9982 - val_recall: 0.6893 - lr: 0.0050\n",
            "Epoch 8/100\n",
            "36/36 [==============================] - 325s 9s/step - loss: 0.0763 - acc: 0.9622 - precision: 0.9853 - recall: 0.9626 - val_loss: 0.1615 - val_acc: 0.9487 - val_precision: 0.9760 - val_recall: 0.9531 - lr: 0.0045\n",
            "Epoch 9/100\n",
            "36/36 [==============================] - 325s 9s/step - loss: 0.0708 - acc: 0.9667 - precision: 0.9880 - recall: 0.9661 - val_loss: 0.2922 - val_acc: 0.9046 - val_precision: 0.9944 - val_recall: 0.8742 - lr: 0.0040\n",
            "Epoch 10/100\n",
            "36/36 [==============================] - 324s 9s/step - loss: 0.0661 - acc: 0.9667 - precision: 0.9877 - recall: 0.9664 - val_loss: 0.2115 - val_acc: 0.9343 - val_precision: 0.9193 - val_recall: 0.9975 - lr: 0.0035\n",
            "Epoch 11/100\n",
            "36/36 [==============================] - 324s 9s/step - loss: 0.0665 - acc: 0.9665 - precision: 0.9907 - recall: 0.9631 - val_loss: 0.2029 - val_acc: 0.9253 - val_precision: 0.9866 - val_recall: 0.9100 - lr: 0.0032\n",
            "Epoch 12/100\n",
            "36/36 [==============================] - 325s 9s/step - loss: 0.0587 - acc: 0.9722 - precision: 0.9899 - recall: 0.9719 - val_loss: 0.1595 - val_acc: 0.9523 - val_precision: 0.9480 - val_recall: 0.9889 - lr: 0.0028\n",
            "Epoch 13/100\n",
            "36/36 [==============================] - 326s 9s/step - loss: 0.0463 - acc: 0.9782 - precision: 0.9923 - recall: 0.9778 - val_loss: 0.1262 - val_acc: 0.9640 - val_precision: 0.9684 - val_recall: 0.9827 - lr: 0.0025\n",
            "Epoch 14/100\n",
            "36/36 [==============================] - 327s 9s/step - loss: 0.0479 - acc: 0.9789 - precision: 0.9920 - recall: 0.9789 - val_loss: 0.1366 - val_acc: 0.9604 - val_precision: 0.9604 - val_recall: 0.9864 - lr: 0.0022\n",
            "Epoch 15/100\n",
            "36/36 [==============================] - 326s 9s/step - loss: 0.0381 - acc: 0.9844 - precision: 0.9932 - recall: 0.9854 - val_loss: 0.1350 - val_acc: 0.9595 - val_precision: 0.9603 - val_recall: 0.9852 - lr: 0.0020\n",
            "Epoch 16/100\n",
            "36/36 [==============================] - 325s 9s/step - loss: 0.0428 - acc: 0.9782 - precision: 0.9940 - recall: 0.9760 - val_loss: 0.1650 - val_acc: 0.9424 - val_precision: 0.9844 - val_recall: 0.9359 - lr: 0.0018\n",
            "Epoch 17/100\n",
            "36/36 [==============================] - 335s 9s/step - loss: 0.0304 - acc: 0.9842 - precision: 0.9947 - recall: 0.9836 - val_loss: 0.1226 - val_acc: 0.9667 - val_precision: 0.9850 - val_recall: 0.9692 - lr: 0.0016\n",
            "Epoch 18/100\n",
            "36/36 [==============================] - 341s 9s/step - loss: 0.0280 - acc: 0.9889 - precision: 0.9962 - recall: 0.9886 - val_loss: 0.1173 - val_acc: 0.9631 - val_precision: 0.9825 - val_recall: 0.9667 - lr: 0.0014\n",
            "Epoch 19/100\n",
            "36/36 [==============================] - 340s 9s/step - loss: 0.0188 - acc: 0.9917 - precision: 0.9974 - recall: 0.9912 - val_loss: 0.1492 - val_acc: 0.9577 - val_precision: 0.9569 - val_recall: 0.9864 - lr: 0.0013\n",
            "Epoch 20/100\n",
            "36/36 [==============================] - 341s 9s/step - loss: 0.0201 - acc: 0.9908 - precision: 0.9979 - recall: 0.9895 - val_loss: 0.1999 - val_acc: 0.9532 - val_precision: 0.9439 - val_recall: 0.9951 - lr: 0.0011\n",
            "Epoch 21/100\n",
            "36/36 [==============================] - 330s 9s/step - loss: 0.0143 - acc: 0.9947 - precision: 0.9982 - recall: 0.9944 - val_loss: 0.1550 - val_acc: 0.9559 - val_precision: 0.9811 - val_recall: 0.9581 - lr: 0.0010\n",
            "Epoch 22/100\n",
            "36/36 [==============================] - 340s 9s/step - loss: 0.0197 - acc: 0.9900 - precision: 0.9982 - recall: 0.9880 - val_loss: 0.1316 - val_acc: 0.9649 - val_precision: 0.9684 - val_recall: 0.9840 - lr: 8.9125e-04\n",
            "Epoch 23/100\n",
            "36/36 [==============================] - 338s 9s/step - loss: 0.0204 - acc: 0.9893 - precision: 0.9959 - recall: 0.9895 - val_loss: 0.1407 - val_acc: 0.9586 - val_precision: 0.9752 - val_recall: 0.9679 - lr: 7.9433e-04\n",
            "Epoch 24/100\n",
            "36/36 [==============================] - 336s 9s/step - loss: 0.0143 - acc: 0.9930 - precision: 0.9974 - recall: 0.9930 - val_loss: 0.1497 - val_acc: 0.9622 - val_precision: 0.9812 - val_recall: 0.9667 - lr: 7.0795e-04\n",
            "Epoch 25/100\n",
            "36/36 [==============================] - 335s 9s/step - loss: 0.0111 - acc: 0.9953 - precision: 0.9982 - recall: 0.9953 - val_loss: 0.1472 - val_acc: 0.9649 - val_precision: 0.9742 - val_recall: 0.9778 - lr: 6.3096e-04\n",
            "Epoch 26/100\n",
            "36/36 [==============================] - 330s 9s/step - loss: 0.0098 - acc: 0.9949 - precision: 0.9991 - recall: 0.9939 - val_loss: 0.1679 - val_acc: 0.9604 - val_precision: 0.9582 - val_recall: 0.9889 - lr: 5.6234e-04\n",
            "Epoch 27/100\n",
            "36/36 [==============================] - 326s 9s/step - loss: 0.0110 - acc: 0.9962 - precision: 0.9988 - recall: 0.9959 - val_loss: 0.1514 - val_acc: 0.9613 - val_precision: 0.9776 - val_recall: 0.9692 - lr: 5.0119e-04\n",
            "Epoch 28/100\n",
            "36/36 [==============================] - 326s 9s/step - loss: 0.0087 - acc: 0.9955 - precision: 0.9988 - recall: 0.9950 - val_loss: 0.1609 - val_acc: 0.9595 - val_precision: 0.9824 - val_recall: 0.9618 - lr: 4.4668e-04\n"
          ]
        }
      ]
    },
    {
      "cell_type": "markdown",
      "metadata": {
        "id": "FH_PFzPbRPfa"
      },
      "source": [
        "### Save history and model's weight"
      ]
    },
    {
      "cell_type": "code",
      "metadata": {
        "id": "InO1-MIeRbuS"
      },
      "source": [
        "target_dir = '/content/drive/MyDrive/Informatika/Semester 7/Temu Kembali Citra/CBIR Project - Temu Kembali Citra 7B'\n",
        "\n",
        "history_dict = str(H.history)\n",
        "json.dump(history_dict, open(target_dir + '/phase_2_train_model_history.json', 'w'))\n",
        "\n",
        "model.save_weights(target_dir + '/phase_2_train_model_weights.h5')"
      ],
      "execution_count": 34,
      "outputs": []
    },
    {
      "cell_type": "markdown",
      "metadata": {
        "id": "SKyhXzLcRyRH"
      },
      "source": [
        "### Phase 2 Plot graph\n",
        "---\n",
        "Precision, recall, accuracy, loss"
      ]
    },
    {
      "cell_type": "code",
      "metadata": {
        "id": "6ZNRctJJR5Ql",
        "colab": {
          "base_uri": "https://localhost:8080/",
          "height": 241
        },
        "outputId": "6ab80a81-ae07-4cd0-ef39-0d68737a2d00"
      },
      "source": [
        "fig, ax = plt.subplots(1, 4, figsize=(20, 3))\n",
        "ax = ax.ravel()\n",
        "\n",
        "for i, met in enumerate(['precision', 'recall', 'acc', 'loss']):\n",
        "    ax[i].plot(H.history[met])\n",
        "    ax[i].plot(H.history['val_' + met])\n",
        "    ax[i].set_title('Model {}'.format(met))\n",
        "    ax[i].set_xlabel('epochs')\n",
        "    ax[i].set_ylabel(met)\n",
        "    ax[i].legend(['train', 'val'])"
      ],
      "execution_count": 35,
      "outputs": [
        {
          "output_type": "display_data",
          "data": {
            "image/png": "[encoded data removed]",
            "text/plain": [
              "<Figure size 1440x216 with 4 Axes>"
            ]
          },
          "metadata": {
            "needs_background": "light"
          }
        }
      ]
    },
    {
      "cell_type": "markdown",
      "metadata": {
        "id": "DIT2MSjIR-Fg"
      },
      "source": [
        "### Model evaluation"
      ]
    },
    {
      "cell_type": "code",
      "metadata": {
        "id": "2hxrGcqHSBux",
        "colab": {
          "base_uri": "https://localhost:8080/"
        },
        "outputId": "4c08bd8e-fff9-437a-bfe4-9c21d0fe864e"
      },
      "source": [
        "loss, acc, prec, rec = model.evaluate(x_test, y_test)\n",
        "print(f\"Loss = {loss * 100:.2f} %\")\n",
        "print(f\"Accuracy = {acc * 100:.2f} %\")\n",
        "print(f\"Precision = {prec * 100:.2f} %\")\n",
        "print(f\"Recall = {rec * 100:.2f} %\")"
      ],
      "execution_count": 38,
      "outputs": [
        {
          "output_type": "stream",
          "name": "stdout",
          "text": [
            "2/2 [==============================] - 1s 479ms/step - loss: 0.1497 - acc: 0.9344 - precision: 0.9762 - recall: 0.9318\n",
            "Loss = 14.97 %\n",
            "Accuracy = 93.44 %\n",
            "Precision = 97.62 %\n",
            "Recall = 93.18 %\n"
          ]
        }
      ]
    },
    {
      "cell_type": "markdown",
      "metadata": {
        "id": "-OPzCMQTSFBN"
      },
      "source": [
        "#### Classificaion report"
      ]
    },
    {
      "cell_type": "code",
      "metadata": {
        "id": "4nF1TkYnSKQG",
        "colab": {
          "base_uri": "https://localhost:8080/"
        },
        "outputId": "88349a0c-8b60-4545-a857-162066d1f6e7"
      },
      "source": [
        "pred = model.predict(x_test)\n",
        "y_pred = (pred > 0.5).astype(np.int)\n",
        "\n",
        "print(classification_report(y_test, y_pred))"
      ],
      "execution_count": 39,
      "outputs": [
        {
          "output_type": "stream",
          "name": "stdout",
          "text": [
            "              precision    recall  f1-score   support\n",
            "\n",
            "           0       0.84      0.94      0.89        17\n",
            "           1       0.98      0.93      0.95        44\n",
            "\n",
            "    accuracy                           0.93        61\n",
            "   macro avg       0.91      0.94      0.92        61\n",
            "weighted avg       0.94      0.93      0.94        61\n",
            "\n"
          ]
        }
      ]
    },
    {
      "cell_type": "markdown",
      "metadata": {
        "id": "BbZb6nUPSLtM"
      },
      "source": [
        "#### Confusion matrix"
      ]
    },
    {
      "cell_type": "code",
      "metadata": {
        "id": "ai6T8aGxSPU3",
        "colab": {
          "base_uri": "https://localhost:8080/",
          "height": 321
        },
        "outputId": "a1ca7f82-a85a-4865-96d5-23a823079aee"
      },
      "source": [
        "labels = ['normal', 'pneumonia']\n",
        "\n",
        "cmatrix_result = confusion_matrix(y_test, y_pred)\n",
        "\n",
        "plt.figure(figsize=(5,5))\n",
        "ax = plt.subplot()\n",
        "\n",
        "data = np.asarray(cmatrix_result).reshape(2,2)\n",
        "\n",
        "sns.set(font_scale=1.25)\n",
        "sns.heatmap(data,\n",
        "            annot=True,\n",
        "            ax=ax,\n",
        "            cmap=plt.cm.Reds,\n",
        "            square=True,\n",
        "            linewidths=.5,\n",
        "            xticklabels=labels, yticklabels=labels\n",
        "            )\n",
        "\n",
        "ax.set_xlabel('Predicted labels')\n",
        "ax.set_ylabel('True labels')\n",
        "ax.set_title('Confusion Matrix')\n",
        "plt.title('Confusion Matrix Test')\n",
        "plt.show()"
      ],
      "execution_count": 44,
      "outputs": [
        {
          "output_type": "display_data",
          "data": {
            "image/png": "[encoded data removed]",
            "text/plain": [
              "<Figure size 360x360 with 2 Axes>"
            ]
          },
          "metadata": {}
        }
      ]
    }
  ]
}