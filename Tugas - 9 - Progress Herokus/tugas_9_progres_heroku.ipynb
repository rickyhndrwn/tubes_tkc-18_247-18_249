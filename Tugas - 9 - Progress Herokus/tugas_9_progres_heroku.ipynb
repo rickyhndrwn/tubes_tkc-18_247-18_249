{
  "nbformat": 4,
  "nbformat_minor": 0,
  "metadata": {
    "colab": {
      "name": "tugas_9_progres_heroku.ipynb",
      "provenance": [],
      "collapsed_sections": [
        "OegwiDDl16r0",
        "-QjbqLbf2PTr",
        "ihYZg8tW2Wd0",
        "XCdtvl4s2j5_",
        "B4ZyO-BP3_ji",
        "qs7kWMIa4I7_",
        "I-DeBBuc5DFt",
        "jotfJjW96GN4"
      ],
      "toc_visible": true,
      "mount_file_id": "1qJa-pcur3Geua_Hg29MnEI0LSUQlN1aJ",
      "authorship_tag": "ABX9TyNYuC+DwzmGyCXii5QQRpKD",
      "include_colab_link": true
    },
    "kernelspec": {
      "name": "python3",
      "display_name": "Python 3"
    },
    "language_info": {
      "name": "python"
    }
  },
  "cells": [
    {
      "cell_type": "markdown",
      "metadata": {
        "id": "view-in-github",
        "colab_type": "text"
      },
      "source": [
        "<a href=\"https://colab.research.google.com/github/rickyhndrwn/tubes_tkc-18_247-18_249/blob/main/Tugas%20-%209%20-%20Progress%20Herokus/tugas_9_progres_heroku.ipynb\" target=\"_parent\"><img src=\"https://colab.research.google.com/assets/colab-badge.svg\" alt=\"Open In Colab\"/></a>"
      ]
    },
    {
      "cell_type": "markdown",
      "source": [
        "# Tugas 9 - Progres Heroku\n",
        "---\n",
        "Temu Kembali Citra 7B 2021\n",
        "\n",
        "Anggota:\n",
        "* 201810370311247 - Ricky Hendrawan\n",
        "* 201810370311249 - Shofiyah"
      ],
      "metadata": {
        "id": "gnD4CPio1js_"
      }
    },
    {
      "cell_type": "markdown",
      "source": [
        "## Import library"
      ],
      "metadata": {
        "id": "OegwiDDl16r0"
      }
    },
    {
      "cell_type": "code",
      "execution_count": 10,
      "metadata": {
        "id": "BxrCx_Hk1SV_"
      },
      "outputs": [],
      "source": [
        "from tensorflow.keras import preprocessing\n",
        "from tensorflow.keras.applications.densenet import DenseNet121, DenseNet169, DenseNet201, preprocess_input\n",
        "from tensorflow.keras.models import Model\n",
        "from keras.models import load_model\n",
        "from random import choice, shuffle\n",
        "from pathlib import Path\n",
        "from PIL import Image\n",
        "import numpy as np\n",
        "import os\n",
        "\n",
        "import matplotlib.pyplot as plt"
      ]
    },
    {
      "cell_type": "code",
      "source": [
        "target_dir = '/content/drive/MyDrive/Informatika/Semester 7/Temu Kembali Citra/CBIR Normal Pneumonia'"
      ],
      "metadata": {
        "id": "sVoN0lox2Nca"
      },
      "execution_count": null,
      "outputs": []
    },
    {
      "cell_type": "markdown",
      "source": [
        "## Instantiate model"
      ],
      "metadata": {
        "id": "-QjbqLbf2PTr"
      }
    },
    {
      "cell_type": "code",
      "source": [
        "base_model = DenseNet121()\n",
        "model_dn121 = Model(inputs=base_model.input,\n",
        "              outputs=base_model.get_layer('predictions').output)\n",
        "\n",
        "# model_dn121.save(target_dir + '/cxr_densenet121.h5')\n",
        "\n",
        "base_model = DenseNet169()\n",
        "model_dn169 = Model(inputs=base_model.input,\n",
        "              outputs=base_model.get_layer('predictions').output)\n",
        "\n",
        "# model_dn169.save(target_dir + '/cxr_densenet169.h5')\n",
        "\n",
        "base_model = DenseNet201()\n",
        "model_dn201 = Model(inputs=base_model.input,\n",
        "              outputs=base_model.get_layer('predictions').output)\n",
        "\n",
        "# model_dn201.save(target_dir + '/cxr_densenet201.h5')"
      ],
      "metadata": {
        "colab": {
          "base_uri": "https://localhost:8080/"
        },
        "id": "lZ2Vne8_2R_-",
        "outputId": "4e4a88c1-cabf-4541-9226-fb5b92908acd"
      },
      "execution_count": 2,
      "outputs": [
        {
          "output_type": "stream",
          "name": "stdout",
          "text": [
            "Downloading data from https://storage.googleapis.com/tensorflow/keras-applications/densenet/densenet121_weights_tf_dim_ordering_tf_kernels.h5\n",
            "33193984/33188688 [==============================] - 0s 0us/step\n",
            "33202176/33188688 [==============================] - 0s 0us/step\n",
            "Downloading data from https://storage.googleapis.com/tensorflow/keras-applications/densenet/densenet169_weights_tf_dim_ordering_tf_kernels.h5\n",
            "58548224/58541896 [==============================] - 1s 0us/step\n",
            "58556416/58541896 [==============================] - 1s 0us/step\n",
            "Downloading data from https://storage.googleapis.com/tensorflow/keras-applications/densenet/densenet201_weights_tf_dim_ordering_tf_kernels.h5\n",
            "82526208/82524592 [==============================] - 1s 0us/step\n",
            "82534400/82524592 [==============================] - 1s 0us/step\n"
          ]
        }
      ]
    },
    {
      "cell_type": "markdown",
      "source": [
        "## Feature extractor class"
      ],
      "metadata": {
        "id": "ihYZg8tW2Wd0"
      }
    },
    {
      "cell_type": "code",
      "source": [
        "class FeatureExtractor:\n",
        "    def __init__(self, model):\n",
        "        self.model = model\n",
        "    \n",
        "    def extract(self, img):\n",
        "        img = img.convert('RGB')\n",
        "        \n",
        "        x = preprocessing.image.img_to_array(img)\n",
        "        x = np.expand_dims(x, axis=0)\n",
        "        x = preprocess_input(x)\n",
        "        \n",
        "        feature = self.model.predict(x)[0]\n",
        "        \n",
        "        return feature / np.linalg.norm(feature)\n",
        "\n",
        "fe_dn121 = FeatureExtractor(model_dn121)\n",
        "fe_dn169 = FeatureExtractor(model_dn169)\n",
        "fe_dn201 = FeatureExtractor(model_dn201)"
      ],
      "metadata": {
        "id": "YRUgZ8fv2YZM"
      },
      "execution_count": 3,
      "outputs": []
    },
    {
      "cell_type": "markdown",
      "source": [
        "## Extract features"
      ],
      "metadata": {
        "id": "XCdtvl4s2j5_"
      }
    },
    {
      "cell_type": "code",
      "source": [
        "img_db_dir = '/content/drive/MyDrive/Dataset/chest_xray/resized_image3000(224x224)'\n",
        "feature_save_dir = '/content/drive/MyDrive/Informatika/Semester 7/Temu Kembali Citra/CBIR Normal Pneumonia'\n",
        "\n",
        "img_paths = list()\n",
        "features_dn121 = list()\n",
        "features_dn169 = list()\n",
        "features_dn201 = list()\n",
        "\n",
        "for img_path in sorted(Path(img_db_dir).glob(\"*.jpeg\")):\n",
        "    img_paths.append(img_path)\n",
        "\n",
        "    feature_dn121 = fe_dn121.extract(img=Image.open(img_path))\n",
        "    features_dn121.append(feature_dn121)\n",
        "\n",
        "    feature_dn169 = fe_dn169.extract(img=Image.open(img_path))\n",
        "    features_dn169.append(feature_dn169)\n",
        "\n",
        "    feature_dn201 = fe_dn201.extract(img=Image.open(img_path))\n",
        "    features_dn201.append(feature_dn201)\n",
        "\n",
        "feature_dn121 = np.array(feature_dn121)\n",
        "np.save(feature_save_dir + '/features_densenet121.npy', feature_dn121)\n",
        "\n",
        "feature_dn169 = np.array(feature_dn169)\n",
        "np.save(feature_save_dir + '/features_densenet169.npy', feature_dn169)\n",
        "\n",
        "feature_dn201 = np.array(feature_dn201)\n",
        "np.save(feature_save_dir + '/features_densenet201.npy', feature_dn201)\n",
        "\n",
        "features_dn121 = np.load(feature_save_dir + '/features_densenet121.npy')\n",
        "features_dn169 = np.load(feature_save_dir + '/features_densenet169.npy')\n",
        "features_dn201 = np.load(feature_save_dir + '/features_densenet201.npy')\n",
        "\n",
        "print(f\"Jumlah citra database: {len(img_paths)}\")"
      ],
      "metadata": {
        "colab": {
          "base_uri": "https://localhost:8080/"
        },
        "id": "hN_yhowr2neC",
        "outputId": "f604fdc3-7530-494e-c879-53e0023d35cd"
      },
      "execution_count": 7,
      "outputs": [
        {
          "output_type": "stream",
          "name": "stdout",
          "text": [
            "Jumlah citra database: 3000\n"
          ]
        }
      ]
    },
    {
      "cell_type": "markdown",
      "source": [
        "## Load test images"
      ],
      "metadata": {
        "id": "B4ZyO-BP3_ji"
      }
    },
    {
      "cell_type": "code",
      "source": [
        "test_dir = '/content/drive/MyDrive/Dataset/chest_xray/resized_test_image160(224x224)'\n",
        "\n",
        "test_img_paths = list()\n",
        "for img_path in sorted(Path(test_dir).glob(\"*.jpeg\")):\n",
        "    test_img_paths.append(img_path)\n",
        "\n",
        "print(f\"Jumlah citra uji: {len(test_img_paths)}\")"
      ],
      "metadata": {
        "colab": {
          "base_uri": "https://localhost:8080/"
        },
        "id": "BpOTRdbP4DBe",
        "outputId": "98367d8a-914d-4339-d961-366b8c9dce97"
      },
      "execution_count": 8,
      "outputs": [
        {
          "output_type": "stream",
          "name": "stdout",
          "text": [
            "Jumlah citra uji: 160\n"
          ]
        }
      ]
    },
    {
      "cell_type": "markdown",
      "source": [
        "## Average precision eval"
      ],
      "metadata": {
        "id": "qs7kWMIa4I7_"
      }
    },
    {
      "cell_type": "code",
      "source": [
        "def find_y_pred(scores):\n",
        "    y_pred = list()\n",
        "    for score in scores:\n",
        "        db_img_name = os.path.basename(score[1])\n",
        "        y_pred.append(db_img_name[0])\n",
        "    \n",
        "    return np.array(y_pred, dtype=int)\n",
        "\n",
        "\n",
        "def image_retrieval_func(query_image, n_img, model):\n",
        "    img = Image.open(query_image)\n",
        "\n",
        "    query = model.extract(img)\n",
        "    dists = np.linalg.norm(features_dn201 - query, axis=1)\n",
        "\n",
        "    # Extract n_img images that have lowest distance\n",
        "    ids = np.argsort(dists)[:n_img]\n",
        "    scores = [(dists[id], img_paths[id]) for id in ids]\n",
        "\n",
        "    query_img_name = os.path.basename(query_image)\n",
        "    query_img_class = query_img_name[0]\n",
        "    \n",
        "    y_true = np.array([query_img_class for _ in range(n_img)], dtype=int)\n",
        "    y_pred = find_y_pred(scores)\n",
        "\n",
        "    return y_true, y_pred\n",
        "\n",
        "\n",
        "def calc_precision(test_img_path, n_img, model):\n",
        "    y_true, y_pred = image_retrieval_func(test_img_path, n_img, model)\n",
        "    relevant_img = np.sum(y_true == y_pred)\n",
        "    precision = relevant_img / float(n_img)\n",
        "\n",
        "    return round(precision, 3)"
      ],
      "metadata": {
        "id": "UoGG9dqu4Noh"
      },
      "execution_count": 17,
      "outputs": []
    },
    {
      "cell_type": "code",
      "source": [
        "norm_test_img_paths = test_img_paths[:80]\n",
        "pneu_test_img_paths = test_img_paths[80:160]"
      ],
      "metadata": {
        "id": "2PsEFfK36hxQ"
      },
      "execution_count": 12,
      "outputs": []
    },
    {
      "cell_type": "markdown",
      "source": [
        "### Normal class\n",
        "---\n",
        "Kumpulkan rata-rata presisi menggunakan ketiga versi DenseNet dengan data uji. Jumlah fetch data (retrieved image) diatur ke angka 10 sampai 100 dengan kelipatan 10 (10, 20, ..., 100)"
      ],
      "metadata": {
        "id": "I-DeBBuc5DFt"
      }
    },
    {
      "cell_type": "code",
      "source": [
        "# kumpulan presisi kelas normal dari densenet121\n",
        "norm_dn121_precision_list = list()\n",
        "for n_img in range(10,110,10):\n",
        "    precision_list = list()\n",
        "    for img_dir in norm_test_img_paths:\n",
        "        p = calc_precision(img_dir, n_img, fe_dn121)\n",
        "        precision_list.append(p)\n",
        "    norm_dn121_precision_list.append(np.mean(precision_list))\n",
        "\n",
        "# kumpulan presisi kelas normal dari densenet169\n",
        "norm_dn169_precision_list = list()\n",
        "for n_img in range(10,110,10):\n",
        "    precision_list = list()\n",
        "    for img_dir in norm_test_img_paths:\n",
        "        p = calc_precision(img_dir, n_img, fe_dn169)\n",
        "        precision_list.append(p)\n",
        "    norm_dn169_precision_list.append(np.mean(precision_list))\n",
        "\n",
        "# kumpulan presisi kelas normal dari densenet201\n",
        "norm_dn201_precision_list = list()\n",
        "for n_img in range(10,110,10):\n",
        "    precision_list = list()\n",
        "    for img_dir in norm_test_img_paths:\n",
        "        p = calc_precision(img_dir, n_img, fe_dn201)\n",
        "        precision_list.append(p)\n",
        "    norm_dn201_precision_list.append(np.mean(precision_list))"
      ],
      "metadata": {
        "id": "AxHbL3lk5QJC"
      },
      "execution_count": 18,
      "outputs": []
    },
    {
      "cell_type": "code",
      "source": [
        "highest_value = max(max(norm_dn121_precision_list), max(norm_dn169_precision_list), max(norm_dn201_precision_list))\n",
        "lowest_value = min(min(norm_dn121_precision_list), min(norm_dn169_precision_list), min(norm_dn201_precision_list))\n",
        "\n",
        "x_tick_values = range(10, 110, 10)\n",
        "y_tick_values = 100 * np.round(np.linspace(lowest_value, highest_value, 10), 3)\n",
        "\n",
        "plt.figure(figsize=(7,5))\n",
        "\n",
        "plt.plot(x_tick_values, 100 * np.array(norm_dn121_precision_list), marker='o')\n",
        "plt.plot(x_tick_values, 100 * np.array(norm_dn169_precision_list), marker='o')\n",
        "plt.plot(x_tick_values, 100 * np.array(norm_dn201_precision_list), marker='o')\n",
        "\n",
        "plt.xticks(x_tick_values)\n",
        "plt.yticks(y_tick_values)\n",
        "\n",
        "plt.xlabel(\"# Citra yang Diambil\")\n",
        "plt.ylabel(\"Presisi (%)\")\n",
        "\n",
        "plt.legend(['DenseNet-121', 'DenseNet-169', 'DenseNet-201'])\n",
        "plt.title(\"Rata-rata Presisi Kelas Normal\")\n",
        "plt.show()"
      ],
      "metadata": {
        "colab": {
          "base_uri": "https://localhost:8080/",
          "height": 350
        },
        "id": "M6zMmCHq5PnR",
        "outputId": "88716d36-f759-4b23-92bb-6a810d5b8330"
      },
      "execution_count": 19,
      "outputs": [
        {
          "output_type": "display_data",
          "data": {
            "image/png": "[encoded data removed]",
            "text/plain": [
              "<Figure size 504x360 with 1 Axes>"
            ]
          },
          "metadata": {
            "needs_background": "light"
          }
        }
      ]
    },
    {
      "cell_type": "markdown",
      "source": [
        "### Pneumonia class\n",
        "---\n",
        "Kumpulkan rata-rata presisi menggunakan ketiga versi DenseNet dengan data uji. Jumlah fetch data (retrieved image) diatur ke angka 10 sampai 100 dengan kelipatan 10 (10, 20, ..., 100)"
      ],
      "metadata": {
        "id": "jotfJjW96GN4"
      }
    },
    {
      "cell_type": "code",
      "source": [
        "# kumpulan presisi kelas pneumonia dari densenet121\n",
        "pneu_dn121_precision_list = list()\n",
        "for n_img in range(10,110,10):\n",
        "    precision_list = list()\n",
        "    for img_dir in pneu_test_img_paths:\n",
        "        p = calc_precision(img_dir, n_img, fe_dn121)\n",
        "        precision_list.append(p)\n",
        "    pneu_dn121_precision_list.append(np.mean(precision_list))\n",
        "\n",
        "# kumpulan presisi kelas pneumonia dari densenet169\n",
        "pneu_dn169_precision_list = list()\n",
        "for n_img in range(10,110,10):\n",
        "    precision_list = list()\n",
        "    for img_dir in pneu_test_img_paths:\n",
        "        p = calc_precision(img_dir, n_img, fe_dn169)\n",
        "        precision_list.append(p)\n",
        "    pneu_dn169_precision_list.append(np.mean(precision_list))\n",
        "\n",
        "# kumpulan presisi kelas pneumonia dari densenet201\n",
        "pneu_dn201_precision_list = list()\n",
        "for n_img in range(10,110,10):\n",
        "    precision_list = list()\n",
        "    for img_dir in pneu_test_img_paths:\n",
        "        p = calc_precision(img_dir, n_img, fe_dn201)\n",
        "        precision_list.append(p)\n",
        "    pneu_dn201_precision_list.append(np.mean(precision_list))"
      ],
      "metadata": {
        "id": "N0bGCRVm5exJ"
      },
      "execution_count": 20,
      "outputs": []
    },
    {
      "cell_type": "code",
      "source": [
        "highest_value = max(max(pneu_dn121_precision_list), max(pneu_dn169_precision_list), max(pneu_dn201_precision_list))\n",
        "lowest_value = min(min(pneu_dn121_precision_list), min(pneu_dn169_precision_list), min(pneu_dn201_precision_list))\n",
        "\n",
        "x_tick_values = range(10, 110, 10)\n",
        "y_tick_values = 100 * np.round(np.linspace(lowest_value, highest_value, 10), 3)\n",
        "\n",
        "plt.figure(figsize=(7,5))\n",
        "\n",
        "plt.plot(x_tick_values, 100 * np.array(pneu_dn121_precision_list), marker='o')\n",
        "plt.plot(x_tick_values, 100 * np.array(pneu_dn169_precision_list), marker='o')\n",
        "plt.plot(x_tick_values, 100 * np.array(pneu_dn201_precision_list), marker='o')\n",
        "\n",
        "plt.xticks(x_tick_values)\n",
        "plt.yticks(y_tick_values)\n",
        "\n",
        "plt.xlabel(\"# Citra yang Diambil\")\n",
        "plt.ylabel(\"Presisi (%)\")\n",
        "\n",
        "plt.legend(['DenseNet-121', 'DenseNet-169', 'DenseNet-201'])\n",
        "plt.title(\"Rata-rata Presisi Kelas Pneumonia\")\n",
        "plt.show()"
      ],
      "metadata": {
        "colab": {
          "base_uri": "https://localhost:8080/",
          "height": 350
        },
        "id": "osLWgEsT6KRL",
        "outputId": "0cd18240-2834-443e-f87b-d92f2556f635"
      },
      "execution_count": 21,
      "outputs": [
        {
          "output_type": "display_data",
          "data": {
            "image/png": "[encoded data removed]",
            "text/plain": [
              "<Figure size 504x360 with 1 Axes>"
            ]
          },
          "metadata": {
            "needs_background": "light"
          }
        }
      ]
    }
  ]
}